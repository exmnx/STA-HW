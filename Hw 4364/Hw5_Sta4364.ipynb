{
 "cells": [
  {
   "cell_type": "markdown",
   "id": "ed423e4e-2a45-4ff2-b170-14a542808b80",
   "metadata": {},
   "source": [
    "## Homework 5 STA4364\n",
    "\n",
    "Emily \n",
    "\n",
    "### **Problem 1**\n"
   ]
  },
  {
   "cell_type": "code",
   "execution_count": 1,
   "id": "e2494aa9-6500-4f0e-add8-3c3fb976da1d",
   "metadata": {},
   "outputs": [],
   "source": [
    "#Loading Libraries \n",
    "import numpy as np\n",
    "import pandas as pd\n",
    "import matplotlib.pyplot as plt\n",
    "from sklearn import neighbors\n",
    "import sklearn.linear_model as skl \n",
    "from sklearn.model_selection import train_test_split,cross_validate,GridSearchCV\n",
    "from sklearn.preprocessing import StandardScaler\n",
    "import sklearn.metrics as skm\n",
    "from sklearn.discriminant_analysis import LinearDiscriminantAnalysis\n",
    "from sklearn.svm import SVC, LinearSVC\n",
    "import statsmodels.api as sm\n",
    "import statsmodels.formula.api as smf"
   ]
  },
  {
   "cell_type": "markdown",
   "id": "0059573a-6acb-4125-8b28-a972ca43da57",
   "metadata": {},
   "source": [
    "#### **Part a**: Loading and preparing data "
   ]
  },
  {
   "cell_type": "code",
   "execution_count": 2,
   "id": "f675734b-8350-4924-9b6c-73d26d6a5bae",
   "metadata": {},
   "outputs": [
    {
     "data": {
      "text/html": [
       "<div>\n",
       "<style scoped>\n",
       "    .dataframe tbody tr th:only-of-type {\n",
       "        vertical-align: middle;\n",
       "    }\n",
       "\n",
       "    .dataframe tbody tr th {\n",
       "        vertical-align: top;\n",
       "    }\n",
       "\n",
       "    .dataframe thead th {\n",
       "        text-align: right;\n",
       "    }\n",
       "</style>\n",
       "<table border=\"1\" class=\"dataframe\">\n",
       "  <thead>\n",
       "    <tr style=\"text-align: right;\">\n",
       "      <th></th>\n",
       "      <th>0</th>\n",
       "      <th>1</th>\n",
       "      <th>2</th>\n",
       "      <th>3</th>\n",
       "      <th>4</th>\n",
       "      <th>5</th>\n",
       "      <th>6</th>\n",
       "      <th>7</th>\n",
       "      <th>8</th>\n",
       "      <th>9</th>\n",
       "      <th>10</th>\n",
       "    </tr>\n",
       "  </thead>\n",
       "  <tbody>\n",
       "    <tr>\n",
       "      <th>0</th>\n",
       "      <td>28.7967</td>\n",
       "      <td>16.0021</td>\n",
       "      <td>2.6449</td>\n",
       "      <td>0.3918</td>\n",
       "      <td>0.1982</td>\n",
       "      <td>27.7004</td>\n",
       "      <td>22.0110</td>\n",
       "      <td>-8.2027</td>\n",
       "      <td>40.0920</td>\n",
       "      <td>81.8828</td>\n",
       "      <td>g</td>\n",
       "    </tr>\n",
       "    <tr>\n",
       "      <th>1</th>\n",
       "      <td>31.6036</td>\n",
       "      <td>11.7235</td>\n",
       "      <td>2.5185</td>\n",
       "      <td>0.5303</td>\n",
       "      <td>0.3773</td>\n",
       "      <td>26.2722</td>\n",
       "      <td>23.8238</td>\n",
       "      <td>-9.9574</td>\n",
       "      <td>6.3609</td>\n",
       "      <td>205.2610</td>\n",
       "      <td>g</td>\n",
       "    </tr>\n",
       "    <tr>\n",
       "      <th>2</th>\n",
       "      <td>162.0520</td>\n",
       "      <td>136.0310</td>\n",
       "      <td>4.0612</td>\n",
       "      <td>0.0374</td>\n",
       "      <td>0.0187</td>\n",
       "      <td>116.7410</td>\n",
       "      <td>-64.8580</td>\n",
       "      <td>-45.2160</td>\n",
       "      <td>76.9600</td>\n",
       "      <td>256.7880</td>\n",
       "      <td>g</td>\n",
       "    </tr>\n",
       "    <tr>\n",
       "      <th>3</th>\n",
       "      <td>23.8172</td>\n",
       "      <td>9.5728</td>\n",
       "      <td>2.3385</td>\n",
       "      <td>0.6147</td>\n",
       "      <td>0.3922</td>\n",
       "      <td>27.2107</td>\n",
       "      <td>-6.4633</td>\n",
       "      <td>-7.1513</td>\n",
       "      <td>10.4490</td>\n",
       "      <td>116.7370</td>\n",
       "      <td>g</td>\n",
       "    </tr>\n",
       "    <tr>\n",
       "      <th>4</th>\n",
       "      <td>75.1362</td>\n",
       "      <td>30.9205</td>\n",
       "      <td>3.1611</td>\n",
       "      <td>0.3168</td>\n",
       "      <td>0.1832</td>\n",
       "      <td>-5.5277</td>\n",
       "      <td>28.5525</td>\n",
       "      <td>21.8393</td>\n",
       "      <td>4.6480</td>\n",
       "      <td>356.4620</td>\n",
       "      <td>g</td>\n",
       "    </tr>\n",
       "  </tbody>\n",
       "</table>\n",
       "</div>"
      ],
      "text/plain": [
       "         0         1       2       3       4         5        6        7   \\\n",
       "0   28.7967   16.0021  2.6449  0.3918  0.1982   27.7004  22.0110  -8.2027   \n",
       "1   31.6036   11.7235  2.5185  0.5303  0.3773   26.2722  23.8238  -9.9574   \n",
       "2  162.0520  136.0310  4.0612  0.0374  0.0187  116.7410 -64.8580 -45.2160   \n",
       "3   23.8172    9.5728  2.3385  0.6147  0.3922   27.2107  -6.4633  -7.1513   \n",
       "4   75.1362   30.9205  3.1611  0.3168  0.1832   -5.5277  28.5525  21.8393   \n",
       "\n",
       "        8         9  10  \n",
       "0  40.0920   81.8828  g  \n",
       "1   6.3609  205.2610  g  \n",
       "2  76.9600  256.7880  g  \n",
       "3  10.4490  116.7370  g  \n",
       "4   4.6480  356.4620  g  "
      ]
     },
     "execution_count": 2,
     "metadata": {},
     "output_type": "execute_result"
    }
   ],
   "source": [
    "#Loading the data\n",
    "magic=pd.read_table(\"/Users/admin/Documents/Csvv/magic04.data\",header=None,sep=\",\")\n",
    "magic.head()"
   ]
  },
  {
   "cell_type": "code",
   "execution_count": null,
   "id": "aa0dde72-43e6-434e-a012-d70e5b99ac27",
   "metadata": {},
   "outputs": [],
   "source": []
  },
  {
   "cell_type": "code",
   "execution_count": 3,
   "id": "f987660d-58c9-4867-97fb-c6a79627ec5e",
   "metadata": {},
   "outputs": [
    {
     "data": {
      "text/html": [
       "<div>\n",
       "<style scoped>\n",
       "    .dataframe tbody tr th:only-of-type {\n",
       "        vertical-align: middle;\n",
       "    }\n",
       "\n",
       "    .dataframe tbody tr th {\n",
       "        vertical-align: top;\n",
       "    }\n",
       "\n",
       "    .dataframe thead th {\n",
       "        text-align: right;\n",
       "    }\n",
       "</style>\n",
       "<table border=\"1\" class=\"dataframe\">\n",
       "  <thead>\n",
       "    <tr style=\"text-align: right;\">\n",
       "      <th></th>\n",
       "      <th>fLength</th>\n",
       "      <th>fWidth</th>\n",
       "      <th>fSize</th>\n",
       "      <th>fConc</th>\n",
       "      <th>fConc1</th>\n",
       "      <th>fAsym</th>\n",
       "      <th>fM3Long</th>\n",
       "      <th>fM3Trans</th>\n",
       "      <th>fAlpha</th>\n",
       "      <th>fDist</th>\n",
       "      <th>class</th>\n",
       "    </tr>\n",
       "  </thead>\n",
       "  <tbody>\n",
       "    <tr>\n",
       "      <th>0</th>\n",
       "      <td>28.7967</td>\n",
       "      <td>16.0021</td>\n",
       "      <td>2.6449</td>\n",
       "      <td>0.3918</td>\n",
       "      <td>0.1982</td>\n",
       "      <td>27.7004</td>\n",
       "      <td>22.0110</td>\n",
       "      <td>-8.2027</td>\n",
       "      <td>40.0920</td>\n",
       "      <td>81.8828</td>\n",
       "      <td>g</td>\n",
       "    </tr>\n",
       "    <tr>\n",
       "      <th>1</th>\n",
       "      <td>31.6036</td>\n",
       "      <td>11.7235</td>\n",
       "      <td>2.5185</td>\n",
       "      <td>0.5303</td>\n",
       "      <td>0.3773</td>\n",
       "      <td>26.2722</td>\n",
       "      <td>23.8238</td>\n",
       "      <td>-9.9574</td>\n",
       "      <td>6.3609</td>\n",
       "      <td>205.2610</td>\n",
       "      <td>g</td>\n",
       "    </tr>\n",
       "    <tr>\n",
       "      <th>2</th>\n",
       "      <td>162.0520</td>\n",
       "      <td>136.0310</td>\n",
       "      <td>4.0612</td>\n",
       "      <td>0.0374</td>\n",
       "      <td>0.0187</td>\n",
       "      <td>116.7410</td>\n",
       "      <td>-64.8580</td>\n",
       "      <td>-45.2160</td>\n",
       "      <td>76.9600</td>\n",
       "      <td>256.7880</td>\n",
       "      <td>g</td>\n",
       "    </tr>\n",
       "    <tr>\n",
       "      <th>3</th>\n",
       "      <td>23.8172</td>\n",
       "      <td>9.5728</td>\n",
       "      <td>2.3385</td>\n",
       "      <td>0.6147</td>\n",
       "      <td>0.3922</td>\n",
       "      <td>27.2107</td>\n",
       "      <td>-6.4633</td>\n",
       "      <td>-7.1513</td>\n",
       "      <td>10.4490</td>\n",
       "      <td>116.7370</td>\n",
       "      <td>g</td>\n",
       "    </tr>\n",
       "    <tr>\n",
       "      <th>4</th>\n",
       "      <td>75.1362</td>\n",
       "      <td>30.9205</td>\n",
       "      <td>3.1611</td>\n",
       "      <td>0.3168</td>\n",
       "      <td>0.1832</td>\n",
       "      <td>-5.5277</td>\n",
       "      <td>28.5525</td>\n",
       "      <td>21.8393</td>\n",
       "      <td>4.6480</td>\n",
       "      <td>356.4620</td>\n",
       "      <td>g</td>\n",
       "    </tr>\n",
       "  </tbody>\n",
       "</table>\n",
       "</div>"
      ],
      "text/plain": [
       "    fLength    fWidth   fSize   fConc  fConc1     fAsym  fM3Long  fM3Trans  \\\n",
       "0   28.7967   16.0021  2.6449  0.3918  0.1982   27.7004  22.0110   -8.2027   \n",
       "1   31.6036   11.7235  2.5185  0.5303  0.3773   26.2722  23.8238   -9.9574   \n",
       "2  162.0520  136.0310  4.0612  0.0374  0.0187  116.7410 -64.8580  -45.2160   \n",
       "3   23.8172    9.5728  2.3385  0.6147  0.3922   27.2107  -6.4633   -7.1513   \n",
       "4   75.1362   30.9205  3.1611  0.3168  0.1832   -5.5277  28.5525   21.8393   \n",
       "\n",
       "    fAlpha     fDist class  \n",
       "0  40.0920   81.8828     g  \n",
       "1   6.3609  205.2610     g  \n",
       "2  76.9600  256.7880     g  \n",
       "3  10.4490  116.7370     g  \n",
       "4   4.6480  356.4620     g  "
      ]
     },
     "execution_count": 3,
     "metadata": {},
     "output_type": "execute_result"
    }
   ],
   "source": [
    "#Column names \n",
    "magic.columns=[\"fLength\",\"fWidth\",\"fSize\",\"fConc\",\"fConc1\",\"fAsym\",\"fM3Long\",\"fM3Trans\",\"fAlpha\",\"fDist\",\"class\"]\n",
    "magic.head()"
   ]
  },
  {
   "cell_type": "code",
   "execution_count": null,
   "id": "8565c88a-0d5f-44df-b0ba-804924ca1828",
   "metadata": {},
   "outputs": [],
   "source": []
  },
  {
   "cell_type": "code",
   "execution_count": 4,
   "id": "c8da958e-138d-49f9-9df0-4fa875dcee86",
   "metadata": {},
   "outputs": [],
   "source": [
    "magic[\"class\"]=magic[\"class\"].factorize()[0]"
   ]
  },
  {
   "cell_type": "code",
   "execution_count": null,
   "id": "4cafc07e-b763-4c0a-9db3-88b487d4ca2a",
   "metadata": {},
   "outputs": [],
   "source": []
  },
  {
   "cell_type": "code",
   "execution_count": 5,
   "id": "9c8329d0-37a2-404d-8dee-de719227cc13",
   "metadata": {},
   "outputs": [
    {
     "data": {
      "text/html": [
       "<div>\n",
       "<style scoped>\n",
       "    .dataframe tbody tr th:only-of-type {\n",
       "        vertical-align: middle;\n",
       "    }\n",
       "\n",
       "    .dataframe tbody tr th {\n",
       "        vertical-align: top;\n",
       "    }\n",
       "\n",
       "    .dataframe thead th {\n",
       "        text-align: right;\n",
       "    }\n",
       "</style>\n",
       "<table border=\"1\" class=\"dataframe\">\n",
       "  <thead>\n",
       "    <tr style=\"text-align: right;\">\n",
       "      <th></th>\n",
       "      <th>fLength</th>\n",
       "      <th>fWidth</th>\n",
       "      <th>fSize</th>\n",
       "      <th>fConc</th>\n",
       "      <th>fConc1</th>\n",
       "      <th>fAsym</th>\n",
       "      <th>fM3Long</th>\n",
       "      <th>fM3Trans</th>\n",
       "      <th>fAlpha</th>\n",
       "      <th>fDist</th>\n",
       "      <th>class</th>\n",
       "    </tr>\n",
       "  </thead>\n",
       "  <tbody>\n",
       "    <tr>\n",
       "      <th>0</th>\n",
       "      <td>28.7967</td>\n",
       "      <td>16.0021</td>\n",
       "      <td>2.6449</td>\n",
       "      <td>0.3918</td>\n",
       "      <td>0.1982</td>\n",
       "      <td>27.7004</td>\n",
       "      <td>22.0110</td>\n",
       "      <td>-8.2027</td>\n",
       "      <td>40.0920</td>\n",
       "      <td>81.8828</td>\n",
       "      <td>0</td>\n",
       "    </tr>\n",
       "    <tr>\n",
       "      <th>1</th>\n",
       "      <td>31.6036</td>\n",
       "      <td>11.7235</td>\n",
       "      <td>2.5185</td>\n",
       "      <td>0.5303</td>\n",
       "      <td>0.3773</td>\n",
       "      <td>26.2722</td>\n",
       "      <td>23.8238</td>\n",
       "      <td>-9.9574</td>\n",
       "      <td>6.3609</td>\n",
       "      <td>205.2610</td>\n",
       "      <td>0</td>\n",
       "    </tr>\n",
       "    <tr>\n",
       "      <th>2</th>\n",
       "      <td>162.0520</td>\n",
       "      <td>136.0310</td>\n",
       "      <td>4.0612</td>\n",
       "      <td>0.0374</td>\n",
       "      <td>0.0187</td>\n",
       "      <td>116.7410</td>\n",
       "      <td>-64.8580</td>\n",
       "      <td>-45.2160</td>\n",
       "      <td>76.9600</td>\n",
       "      <td>256.7880</td>\n",
       "      <td>0</td>\n",
       "    </tr>\n",
       "    <tr>\n",
       "      <th>3</th>\n",
       "      <td>23.8172</td>\n",
       "      <td>9.5728</td>\n",
       "      <td>2.3385</td>\n",
       "      <td>0.6147</td>\n",
       "      <td>0.3922</td>\n",
       "      <td>27.2107</td>\n",
       "      <td>-6.4633</td>\n",
       "      <td>-7.1513</td>\n",
       "      <td>10.4490</td>\n",
       "      <td>116.7370</td>\n",
       "      <td>0</td>\n",
       "    </tr>\n",
       "    <tr>\n",
       "      <th>4</th>\n",
       "      <td>75.1362</td>\n",
       "      <td>30.9205</td>\n",
       "      <td>3.1611</td>\n",
       "      <td>0.3168</td>\n",
       "      <td>0.1832</td>\n",
       "      <td>-5.5277</td>\n",
       "      <td>28.5525</td>\n",
       "      <td>21.8393</td>\n",
       "      <td>4.6480</td>\n",
       "      <td>356.4620</td>\n",
       "      <td>0</td>\n",
       "    </tr>\n",
       "  </tbody>\n",
       "</table>\n",
       "</div>"
      ],
      "text/plain": [
       "    fLength    fWidth   fSize   fConc  fConc1     fAsym  fM3Long  fM3Trans  \\\n",
       "0   28.7967   16.0021  2.6449  0.3918  0.1982   27.7004  22.0110   -8.2027   \n",
       "1   31.6036   11.7235  2.5185  0.5303  0.3773   26.2722  23.8238   -9.9574   \n",
       "2  162.0520  136.0310  4.0612  0.0374  0.0187  116.7410 -64.8580  -45.2160   \n",
       "3   23.8172    9.5728  2.3385  0.6147  0.3922   27.2107  -6.4633   -7.1513   \n",
       "4   75.1362   30.9205  3.1611  0.3168  0.1832   -5.5277  28.5525   21.8393   \n",
       "\n",
       "    fAlpha     fDist  class  \n",
       "0  40.0920   81.8828      0  \n",
       "1   6.3609  205.2610      0  \n",
       "2  76.9600  256.7880      0  \n",
       "3  10.4490  116.7370      0  \n",
       "4   4.6480  356.4620      0  "
      ]
     },
     "execution_count": 5,
     "metadata": {},
     "output_type": "execute_result"
    }
   ],
   "source": [
    "magic.head()\n",
    "#Where g is 0 and h is 1. "
   ]
  },
  {
   "cell_type": "code",
   "execution_count": null,
   "id": "485c9550-a0be-4983-bc48-095d2c77ed88",
   "metadata": {},
   "outputs": [],
   "source": []
  },
  {
   "cell_type": "code",
   "execution_count": 6,
   "id": "a03ee60b-51d9-4819-871b-d567df4eb39c",
   "metadata": {},
   "outputs": [],
   "source": [
    "#Partitioning the data \n",
    "magic_train, magic_test = train_test_split(magic, test_size=int(0.3*magic.shape[0]))"
   ]
  },
  {
   "cell_type": "code",
   "execution_count": 7,
   "id": "46629212-47b4-4b85-a47f-5177329081a8",
   "metadata": {},
   "outputs": [
    {
     "data": {
      "text/html": [
       "<div>\n",
       "<style scoped>\n",
       "    .dataframe tbody tr th:only-of-type {\n",
       "        vertical-align: middle;\n",
       "    }\n",
       "\n",
       "    .dataframe tbody tr th {\n",
       "        vertical-align: top;\n",
       "    }\n",
       "\n",
       "    .dataframe thead th {\n",
       "        text-align: right;\n",
       "    }\n",
       "</style>\n",
       "<table border=\"1\" class=\"dataframe\">\n",
       "  <thead>\n",
       "    <tr style=\"text-align: right;\">\n",
       "      <th></th>\n",
       "      <th>fLength</th>\n",
       "      <th>fWidth</th>\n",
       "      <th>fSize</th>\n",
       "      <th>fConc</th>\n",
       "      <th>fConc1</th>\n",
       "      <th>fAsym</th>\n",
       "      <th>fM3Long</th>\n",
       "      <th>fM3Trans</th>\n",
       "      <th>fAlpha</th>\n",
       "      <th>fDist</th>\n",
       "      <th>class</th>\n",
       "    </tr>\n",
       "  </thead>\n",
       "  <tbody>\n",
       "    <tr>\n",
       "      <th>3284</th>\n",
       "      <td>56.8518</td>\n",
       "      <td>19.6101</td>\n",
       "      <td>2.9398</td>\n",
       "      <td>0.2723</td>\n",
       "      <td>0.1706</td>\n",
       "      <td>-80.6783</td>\n",
       "      <td>15.7759</td>\n",
       "      <td>14.3358</td>\n",
       "      <td>7.6682</td>\n",
       "      <td>251.852</td>\n",
       "      <td>0</td>\n",
       "    </tr>\n",
       "    <tr>\n",
       "      <th>18566</th>\n",
       "      <td>100.2960</td>\n",
       "      <td>41.6470</td>\n",
       "      <td>3.2072</td>\n",
       "      <td>0.1049</td>\n",
       "      <td>0.0524</td>\n",
       "      <td>91.7623</td>\n",
       "      <td>86.6277</td>\n",
       "      <td>37.7065</td>\n",
       "      <td>88.1303</td>\n",
       "      <td>111.458</td>\n",
       "      <td>1</td>\n",
       "    </tr>\n",
       "    <tr>\n",
       "      <th>8967</th>\n",
       "      <td>41.8157</td>\n",
       "      <td>21.1334</td>\n",
       "      <td>2.8132</td>\n",
       "      <td>0.2706</td>\n",
       "      <td>0.1668</td>\n",
       "      <td>27.7430</td>\n",
       "      <td>32.2557</td>\n",
       "      <td>14.2121</td>\n",
       "      <td>34.2159</td>\n",
       "      <td>148.826</td>\n",
       "      <td>0</td>\n",
       "    </tr>\n",
       "    <tr>\n",
       "      <th>2900</th>\n",
       "      <td>38.4181</td>\n",
       "      <td>17.1406</td>\n",
       "      <td>2.5971</td>\n",
       "      <td>0.4020</td>\n",
       "      <td>0.2162</td>\n",
       "      <td>16.0802</td>\n",
       "      <td>39.5951</td>\n",
       "      <td>-13.8313</td>\n",
       "      <td>0.3930</td>\n",
       "      <td>261.014</td>\n",
       "      <td>0</td>\n",
       "    </tr>\n",
       "    <tr>\n",
       "      <th>9188</th>\n",
       "      <td>36.1806</td>\n",
       "      <td>17.9444</td>\n",
       "      <td>2.6015</td>\n",
       "      <td>0.2803</td>\n",
       "      <td>0.1414</td>\n",
       "      <td>21.7259</td>\n",
       "      <td>14.4420</td>\n",
       "      <td>-10.2895</td>\n",
       "      <td>8.2714</td>\n",
       "      <td>179.442</td>\n",
       "      <td>0</td>\n",
       "    </tr>\n",
       "  </tbody>\n",
       "</table>\n",
       "</div>"
      ],
      "text/plain": [
       "        fLength   fWidth   fSize   fConc  fConc1    fAsym  fM3Long  fM3Trans  \\\n",
       "3284    56.8518  19.6101  2.9398  0.2723  0.1706 -80.6783  15.7759   14.3358   \n",
       "18566  100.2960  41.6470  3.2072  0.1049  0.0524  91.7623  86.6277   37.7065   \n",
       "8967    41.8157  21.1334  2.8132  0.2706  0.1668  27.7430  32.2557   14.2121   \n",
       "2900    38.4181  17.1406  2.5971  0.4020  0.2162  16.0802  39.5951  -13.8313   \n",
       "9188    36.1806  17.9444  2.6015  0.2803  0.1414  21.7259  14.4420  -10.2895   \n",
       "\n",
       "        fAlpha    fDist  class  \n",
       "3284    7.6682  251.852      0  \n",
       "18566  88.1303  111.458      1  \n",
       "8967   34.2159  148.826      0  \n",
       "2900    0.3930  261.014      0  \n",
       "9188    8.2714  179.442      0  "
      ]
     },
     "execution_count": 7,
     "metadata": {},
     "output_type": "execute_result"
    }
   ],
   "source": [
    "magic_train.head()"
   ]
  },
  {
   "cell_type": "code",
   "execution_count": null,
   "id": "d35e227b-9a97-46d0-be4d-10c906c89b83",
   "metadata": {},
   "outputs": [],
   "source": []
  },
  {
   "cell_type": "code",
   "execution_count": 8,
   "id": "3e1700fa-fd2d-4d7b-ae98-d4e1de3f15d3",
   "metadata": {},
   "outputs": [],
   "source": [
    "#Scaling Data \n",
    "ss=StandardScaler()\n",
    "scale=ss.fit_transform(magic_train[magic_train.columns[0:10]])\n",
    "scaleTest=ss.fit_transform(magic_test[magic_test.columns[0:10]])"
   ]
  },
  {
   "cell_type": "code",
   "execution_count": null,
   "id": "ce12c79e-f8aa-466c-802d-f318c59a06de",
   "metadata": {},
   "outputs": [],
   "source": []
  },
  {
   "cell_type": "code",
   "execution_count": 9,
   "id": "fbb01c56-0d1e-49bd-857a-66beba21cea4",
   "metadata": {},
   "outputs": [
    {
     "data": {
      "text/plain": [
       "-6.131993415865669e-17"
      ]
     },
     "execution_count": 9,
     "metadata": {},
     "output_type": "execute_result"
    }
   ],
   "source": [
    "scale.mean()"
   ]
  },
  {
   "cell_type": "code",
   "execution_count": 10,
   "id": "c726cb8c-383c-42cf-9d58-3d4756c1678e",
   "metadata": {},
   "outputs": [
    {
     "data": {
      "text/plain": [
       "1.0"
      ]
     },
     "execution_count": 10,
     "metadata": {},
     "output_type": "execute_result"
    }
   ],
   "source": [
    "scale.std()"
   ]
  },
  {
   "cell_type": "code",
   "execution_count": null,
   "id": "48c3f837-0b0b-41a2-870a-6da52fc6151b",
   "metadata": {},
   "outputs": [],
   "source": []
  },
  {
   "cell_type": "code",
   "execution_count": 11,
   "id": "5177d983-1b09-4cb9-b41b-46cdc4f79a54",
   "metadata": {},
   "outputs": [],
   "source": [
    "#New scaled Dataset\n",
    "MagicTrainScaled=pd.DataFrame(scale)"
   ]
  },
  {
   "cell_type": "code",
   "execution_count": 12,
   "id": "20c60580-77a8-4783-87a3-a3737b523878",
   "metadata": {},
   "outputs": [
    {
     "data": {
      "text/html": [
       "<div>\n",
       "<style scoped>\n",
       "    .dataframe tbody tr th:only-of-type {\n",
       "        vertical-align: middle;\n",
       "    }\n",
       "\n",
       "    .dataframe tbody tr th {\n",
       "        vertical-align: top;\n",
       "    }\n",
       "\n",
       "    .dataframe thead th {\n",
       "        text-align: right;\n",
       "    }\n",
       "</style>\n",
       "<table border=\"1\" class=\"dataframe\">\n",
       "  <thead>\n",
       "    <tr style=\"text-align: right;\">\n",
       "      <th></th>\n",
       "      <th>fLength</th>\n",
       "      <th>fWidth</th>\n",
       "      <th>fSize</th>\n",
       "      <th>fConc</th>\n",
       "      <th>fConc1</th>\n",
       "      <th>fAsym</th>\n",
       "      <th>fM3Long</th>\n",
       "      <th>fM3Trans</th>\n",
       "      <th>fAlpha</th>\n",
       "      <th>fDist</th>\n",
       "    </tr>\n",
       "  </thead>\n",
       "  <tbody>\n",
       "    <tr>\n",
       "      <th>0</th>\n",
       "      <td>0.084525</td>\n",
       "      <td>-0.135065</td>\n",
       "      <td>0.243339</td>\n",
       "      <td>-0.593907</td>\n",
       "      <td>-0.402258</td>\n",
       "      <td>-1.283172</td>\n",
       "      <td>0.106099</td>\n",
       "      <td>0.686410</td>\n",
       "      <td>-0.761827</td>\n",
       "      <td>0.778661</td>\n",
       "    </tr>\n",
       "    <tr>\n",
       "      <th>1</th>\n",
       "      <td>1.110206</td>\n",
       "      <td>1.076132</td>\n",
       "      <td>0.808542</td>\n",
       "      <td>-1.506292</td>\n",
       "      <td>-1.469507</td>\n",
       "      <td>1.621839</td>\n",
       "      <td>1.496595</td>\n",
       "      <td>1.821215</td>\n",
       "      <td>2.320255</td>\n",
       "      <td>-1.100355</td>\n",
       "    </tr>\n",
       "    <tr>\n",
       "      <th>2</th>\n",
       "      <td>-0.270465</td>\n",
       "      <td>-0.051341</td>\n",
       "      <td>-0.024255</td>\n",
       "      <td>-0.603173</td>\n",
       "      <td>-0.436569</td>\n",
       "      <td>0.543341</td>\n",
       "      <td>0.429522</td>\n",
       "      <td>0.680403</td>\n",
       "      <td>0.255076</td>\n",
       "      <td>-0.600226</td>\n",
       "    </tr>\n",
       "    <tr>\n",
       "      <th>3</th>\n",
       "      <td>-0.350680</td>\n",
       "      <td>-0.270794</td>\n",
       "      <td>-0.481025</td>\n",
       "      <td>0.113000</td>\n",
       "      <td>0.009473</td>\n",
       "      <td>0.346865</td>\n",
       "      <td>0.573560</td>\n",
       "      <td>-0.681293</td>\n",
       "      <td>-1.040502</td>\n",
       "      <td>0.901284</td>\n",
       "    </tr>\n",
       "    <tr>\n",
       "      <th>4</th>\n",
       "      <td>-0.403505</td>\n",
       "      <td>-0.226615</td>\n",
       "      <td>-0.471725</td>\n",
       "      <td>-0.550305</td>\n",
       "      <td>-0.665910</td>\n",
       "      <td>0.441975</td>\n",
       "      <td>0.079920</td>\n",
       "      <td>-0.509315</td>\n",
       "      <td>-0.738721</td>\n",
       "      <td>-0.190466</td>\n",
       "    </tr>\n",
       "  </tbody>\n",
       "</table>\n",
       "</div>"
      ],
      "text/plain": [
       "    fLength    fWidth     fSize     fConc    fConc1     fAsym   fM3Long  \\\n",
       "0  0.084525 -0.135065  0.243339 -0.593907 -0.402258 -1.283172  0.106099   \n",
       "1  1.110206  1.076132  0.808542 -1.506292 -1.469507  1.621839  1.496595   \n",
       "2 -0.270465 -0.051341 -0.024255 -0.603173 -0.436569  0.543341  0.429522   \n",
       "3 -0.350680 -0.270794 -0.481025  0.113000  0.009473  0.346865  0.573560   \n",
       "4 -0.403505 -0.226615 -0.471725 -0.550305 -0.665910  0.441975  0.079920   \n",
       "\n",
       "   fM3Trans    fAlpha     fDist  \n",
       "0  0.686410 -0.761827  0.778661  \n",
       "1  1.821215  2.320255 -1.100355  \n",
       "2  0.680403  0.255076 -0.600226  \n",
       "3 -0.681293 -1.040502  0.901284  \n",
       "4 -0.509315 -0.738721 -0.190466  "
      ]
     },
     "execution_count": 12,
     "metadata": {},
     "output_type": "execute_result"
    }
   ],
   "source": [
    "MagicTrainScaled.columns=[\"fLength\",\"fWidth\",\"fSize\",\"fConc\",\"fConc1\",\"fAsym\",\"fM3Long\",\"fM3Trans\",\"fAlpha\",\"fDist\"]\n",
    "MagicTrainScaled.head()"
   ]
  },
  {
   "cell_type": "code",
   "execution_count": null,
   "id": "abdbffe5-bd61-4107-89a1-c4f02005843b",
   "metadata": {},
   "outputs": [],
   "source": []
  },
  {
   "cell_type": "code",
   "execution_count": 13,
   "id": "62a2c02d-e432-4f65-a954-993f7868534b",
   "metadata": {},
   "outputs": [],
   "source": [
    "x=magic_train[magic_train.columns[-1]]\n",
    "tempResp=np.array(x)"
   ]
  },
  {
   "cell_type": "code",
   "execution_count": null,
   "id": "514346b0-9acc-4a99-80fb-5648ea8279ea",
   "metadata": {},
   "outputs": [],
   "source": []
  },
  {
   "cell_type": "code",
   "execution_count": 14,
   "id": "837afd78-6749-40da-b1f5-54be97b82016",
   "metadata": {},
   "outputs": [],
   "source": [
    "MagicTrainScaled[\"classy\"]=tempResp"
   ]
  },
  {
   "cell_type": "code",
   "execution_count": null,
   "id": "602e9458-5061-4097-b5ae-5f4cd083fbd9",
   "metadata": {},
   "outputs": [],
   "source": []
  },
  {
   "cell_type": "code",
   "execution_count": 15,
   "id": "ce44c027-166d-4f21-8e0b-0e562ebe8ea8",
   "metadata": {},
   "outputs": [
    {
     "data": {
      "text/html": [
       "<div>\n",
       "<style scoped>\n",
       "    .dataframe tbody tr th:only-of-type {\n",
       "        vertical-align: middle;\n",
       "    }\n",
       "\n",
       "    .dataframe tbody tr th {\n",
       "        vertical-align: top;\n",
       "    }\n",
       "\n",
       "    .dataframe thead th {\n",
       "        text-align: right;\n",
       "    }\n",
       "</style>\n",
       "<table border=\"1\" class=\"dataframe\">\n",
       "  <thead>\n",
       "    <tr style=\"text-align: right;\">\n",
       "      <th></th>\n",
       "      <th>fLength</th>\n",
       "      <th>fWidth</th>\n",
       "      <th>fSize</th>\n",
       "      <th>fConc</th>\n",
       "      <th>fConc1</th>\n",
       "      <th>fAsym</th>\n",
       "      <th>fM3Long</th>\n",
       "      <th>fM3Trans</th>\n",
       "      <th>fAlpha</th>\n",
       "      <th>fDist</th>\n",
       "      <th>classy</th>\n",
       "    </tr>\n",
       "  </thead>\n",
       "  <tbody>\n",
       "    <tr>\n",
       "      <th>0</th>\n",
       "      <td>0.084525</td>\n",
       "      <td>-0.135065</td>\n",
       "      <td>0.243339</td>\n",
       "      <td>-0.593907</td>\n",
       "      <td>-0.402258</td>\n",
       "      <td>-1.283172</td>\n",
       "      <td>0.106099</td>\n",
       "      <td>0.686410</td>\n",
       "      <td>-0.761827</td>\n",
       "      <td>0.778661</td>\n",
       "      <td>0</td>\n",
       "    </tr>\n",
       "    <tr>\n",
       "      <th>1</th>\n",
       "      <td>1.110206</td>\n",
       "      <td>1.076132</td>\n",
       "      <td>0.808542</td>\n",
       "      <td>-1.506292</td>\n",
       "      <td>-1.469507</td>\n",
       "      <td>1.621839</td>\n",
       "      <td>1.496595</td>\n",
       "      <td>1.821215</td>\n",
       "      <td>2.320255</td>\n",
       "      <td>-1.100355</td>\n",
       "      <td>1</td>\n",
       "    </tr>\n",
       "    <tr>\n",
       "      <th>2</th>\n",
       "      <td>-0.270465</td>\n",
       "      <td>-0.051341</td>\n",
       "      <td>-0.024255</td>\n",
       "      <td>-0.603173</td>\n",
       "      <td>-0.436569</td>\n",
       "      <td>0.543341</td>\n",
       "      <td>0.429522</td>\n",
       "      <td>0.680403</td>\n",
       "      <td>0.255076</td>\n",
       "      <td>-0.600226</td>\n",
       "      <td>0</td>\n",
       "    </tr>\n",
       "    <tr>\n",
       "      <th>3</th>\n",
       "      <td>-0.350680</td>\n",
       "      <td>-0.270794</td>\n",
       "      <td>-0.481025</td>\n",
       "      <td>0.113000</td>\n",
       "      <td>0.009473</td>\n",
       "      <td>0.346865</td>\n",
       "      <td>0.573560</td>\n",
       "      <td>-0.681293</td>\n",
       "      <td>-1.040502</td>\n",
       "      <td>0.901284</td>\n",
       "      <td>0</td>\n",
       "    </tr>\n",
       "    <tr>\n",
       "      <th>4</th>\n",
       "      <td>-0.403505</td>\n",
       "      <td>-0.226615</td>\n",
       "      <td>-0.471725</td>\n",
       "      <td>-0.550305</td>\n",
       "      <td>-0.665910</td>\n",
       "      <td>0.441975</td>\n",
       "      <td>0.079920</td>\n",
       "      <td>-0.509315</td>\n",
       "      <td>-0.738721</td>\n",
       "      <td>-0.190466</td>\n",
       "      <td>0</td>\n",
       "    </tr>\n",
       "    <tr>\n",
       "      <th>...</th>\n",
       "      <td>...</td>\n",
       "      <td>...</td>\n",
       "      <td>...</td>\n",
       "      <td>...</td>\n",
       "      <td>...</td>\n",
       "      <td>...</td>\n",
       "      <td>...</td>\n",
       "      <td>...</td>\n",
       "      <td>...</td>\n",
       "      <td>...</td>\n",
       "      <td>...</td>\n",
       "    </tr>\n",
       "    <tr>\n",
       "      <th>13309</th>\n",
       "      <td>-0.778730</td>\n",
       "      <td>-0.703110</td>\n",
       "      <td>-1.272394</td>\n",
       "      <td>1.283730</td>\n",
       "      <td>1.220286</td>\n",
       "      <td>-0.325042</td>\n",
       "      <td>-0.413657</td>\n",
       "      <td>-0.133646</td>\n",
       "      <td>-0.603406</td>\n",
       "      <td>0.281383</td>\n",
       "      <td>0</td>\n",
       "    </tr>\n",
       "    <tr>\n",
       "      <th>13310</th>\n",
       "      <td>-0.699356</td>\n",
       "      <td>-0.503004</td>\n",
       "      <td>-0.689859</td>\n",
       "      <td>0.655853</td>\n",
       "      <td>1.224801</td>\n",
       "      <td>0.006004</td>\n",
       "      <td>-0.595129</td>\n",
       "      <td>0.441975</td>\n",
       "      <td>0.363215</td>\n",
       "      <td>-0.853677</td>\n",
       "      <td>0</td>\n",
       "    </tr>\n",
       "    <tr>\n",
       "      <th>13311</th>\n",
       "      <td>-0.826041</td>\n",
       "      <td>-0.632423</td>\n",
       "      <td>-1.414857</td>\n",
       "      <td>0.970881</td>\n",
       "      <td>0.740837</td>\n",
       "      <td>0.473894</td>\n",
       "      <td>-0.022418</td>\n",
       "      <td>0.168693</td>\n",
       "      <td>-0.024977</td>\n",
       "      <td>0.498884</td>\n",
       "      <td>0</td>\n",
       "    </tr>\n",
       "    <tr>\n",
       "      <th>13312</th>\n",
       "      <td>-0.464360</td>\n",
       "      <td>0.064739</td>\n",
       "      <td>-0.198424</td>\n",
       "      <td>-0.801565</td>\n",
       "      <td>-0.877193</td>\n",
       "      <td>-0.487031</td>\n",
       "      <td>-0.076147</td>\n",
       "      <td>-0.810337</td>\n",
       "      <td>-1.005346</td>\n",
       "      <td>-1.290115</td>\n",
       "      <td>0</td>\n",
       "    </tr>\n",
       "    <tr>\n",
       "      <th>13313</th>\n",
       "      <td>-0.823172</td>\n",
       "      <td>-0.640657</td>\n",
       "      <td>-0.898270</td>\n",
       "      <td>1.027020</td>\n",
       "      <td>0.880789</td>\n",
       "      <td>0.081774</td>\n",
       "      <td>-0.294823</td>\n",
       "      <td>-0.293106</td>\n",
       "      <td>1.023627</td>\n",
       "      <td>-1.389471</td>\n",
       "      <td>0</td>\n",
       "    </tr>\n",
       "  </tbody>\n",
       "</table>\n",
       "<p>13314 rows × 11 columns</p>\n",
       "</div>"
      ],
      "text/plain": [
       "        fLength    fWidth     fSize     fConc    fConc1     fAsym   fM3Long  \\\n",
       "0      0.084525 -0.135065  0.243339 -0.593907 -0.402258 -1.283172  0.106099   \n",
       "1      1.110206  1.076132  0.808542 -1.506292 -1.469507  1.621839  1.496595   \n",
       "2     -0.270465 -0.051341 -0.024255 -0.603173 -0.436569  0.543341  0.429522   \n",
       "3     -0.350680 -0.270794 -0.481025  0.113000  0.009473  0.346865  0.573560   \n",
       "4     -0.403505 -0.226615 -0.471725 -0.550305 -0.665910  0.441975  0.079920   \n",
       "...         ...       ...       ...       ...       ...       ...       ...   \n",
       "13309 -0.778730 -0.703110 -1.272394  1.283730  1.220286 -0.325042 -0.413657   \n",
       "13310 -0.699356 -0.503004 -0.689859  0.655853  1.224801  0.006004 -0.595129   \n",
       "13311 -0.826041 -0.632423 -1.414857  0.970881  0.740837  0.473894 -0.022418   \n",
       "13312 -0.464360  0.064739 -0.198424 -0.801565 -0.877193 -0.487031 -0.076147   \n",
       "13313 -0.823172 -0.640657 -0.898270  1.027020  0.880789  0.081774 -0.294823   \n",
       "\n",
       "       fM3Trans    fAlpha     fDist  classy  \n",
       "0      0.686410 -0.761827  0.778661       0  \n",
       "1      1.821215  2.320255 -1.100355       1  \n",
       "2      0.680403  0.255076 -0.600226       0  \n",
       "3     -0.681293 -1.040502  0.901284       0  \n",
       "4     -0.509315 -0.738721 -0.190466       0  \n",
       "...         ...       ...       ...     ...  \n",
       "13309 -0.133646 -0.603406  0.281383       0  \n",
       "13310  0.441975  0.363215 -0.853677       0  \n",
       "13311  0.168693 -0.024977  0.498884       0  \n",
       "13312 -0.810337 -1.005346 -1.290115       0  \n",
       "13313 -0.293106  1.023627 -1.389471       0  \n",
       "\n",
       "[13314 rows x 11 columns]"
      ]
     },
     "execution_count": 15,
     "metadata": {},
     "output_type": "execute_result"
    }
   ],
   "source": [
    "MagicTrainScaled"
   ]
  },
  {
   "cell_type": "code",
   "execution_count": null,
   "id": "ae7d1dc6-036c-4679-b35d-4c2fe24dd917",
   "metadata": {},
   "outputs": [],
   "source": []
  },
  {
   "cell_type": "code",
   "execution_count": 16,
   "id": "3359522d-1057-4db5-962c-6bc645829a9c",
   "metadata": {},
   "outputs": [],
   "source": [
    "#Test df \n",
    "MagicTestScaled=pd.DataFrame(scaleTest)\n",
    "MagicTestScaled.columns=[\"fLength\",\"fWidth\",\"fSize\",\"fConc\",\"fConc1\",\"fAsym\",\"fM3Long\",\"fM3Trans\",\"fAlpha\",\"fDist\"]\n",
    "x1=magic_test[magic_test.columns[-1]]\n",
    "tempResp1=np.array(x1)\n",
    "MagicTestScaled[\"classy\"]=tempResp1\n"
   ]
  },
  {
   "cell_type": "code",
   "execution_count": null,
   "id": "96b515af-a431-49d3-982e-2213e66be65e",
   "metadata": {},
   "outputs": [],
   "source": []
  },
  {
   "cell_type": "markdown",
   "id": "10d1c278-1cb2-4a05-80bd-428064f1719f",
   "metadata": {},
   "source": [
    "#### **Part b/c**: Modeling Data and Fitting Testing Data\n",
    "**Logistic Regression**"
   ]
  },
  {
   "cell_type": "code",
   "execution_count": 17,
   "id": "fb1495ed-c6cd-4c93-8608-4f4176dba0c5",
   "metadata": {},
   "outputs": [
    {
     "name": "stdout",
     "output_type": "stream",
     "text": [
      "Optimization terminated successfully.\n",
      "         Current function value: 0.455059\n",
      "         Iterations 7\n"
     ]
    },
    {
     "data": {
      "text/html": [
       "<div>\n",
       "<style scoped>\n",
       "    .dataframe tbody tr th:only-of-type {\n",
       "        vertical-align: middle;\n",
       "    }\n",
       "\n",
       "    .dataframe tbody tr th {\n",
       "        vertical-align: top;\n",
       "    }\n",
       "\n",
       "    .dataframe thead th {\n",
       "        text-align: right;\n",
       "    }\n",
       "</style>\n",
       "<table border=\"1\" class=\"dataframe\">\n",
       "  <thead>\n",
       "    <tr style=\"text-align: right;\">\n",
       "      <th></th>\n",
       "      <th>Coef.</th>\n",
       "      <th>Std.Err.</th>\n",
       "      <th>z</th>\n",
       "      <th>P&gt;|z|</th>\n",
       "      <th>[0.025</th>\n",
       "      <th>0.975]</th>\n",
       "    </tr>\n",
       "  </thead>\n",
       "  <tbody>\n",
       "    <tr>\n",
       "      <th>Intercept</th>\n",
       "      <td>-0.649728</td>\n",
       "      <td>0.023792</td>\n",
       "      <td>-27.308994</td>\n",
       "      <td>3.316874e-164</td>\n",
       "      <td>-0.696359</td>\n",
       "      <td>-0.603097</td>\n",
       "    </tr>\n",
       "    <tr>\n",
       "      <th>fLength</th>\n",
       "      <td>1.271291</td>\n",
       "      <td>0.053680</td>\n",
       "      <td>23.682739</td>\n",
       "      <td>5.431284e-124</td>\n",
       "      <td>1.166080</td>\n",
       "      <td>1.376503</td>\n",
       "    </tr>\n",
       "    <tr>\n",
       "      <th>fWidth</th>\n",
       "      <td>0.078551</td>\n",
       "      <td>0.054410</td>\n",
       "      <td>1.443686</td>\n",
       "      <td>1.488273e-01</td>\n",
       "      <td>-0.028091</td>\n",
       "      <td>0.185194</td>\n",
       "    </tr>\n",
       "    <tr>\n",
       "      <th>fSize</th>\n",
       "      <td>0.332451</td>\n",
       "      <td>0.054717</td>\n",
       "      <td>6.075867</td>\n",
       "      <td>1.233195e-09</td>\n",
       "      <td>0.225209</td>\n",
       "      <td>0.439694</td>\n",
       "    </tr>\n",
       "    <tr>\n",
       "      <th>fConc</th>\n",
       "      <td>0.069910</td>\n",
       "      <td>0.114463</td>\n",
       "      <td>0.610767</td>\n",
       "      <td>5.413537e-01</td>\n",
       "      <td>-0.154433</td>\n",
       "      <td>0.294254</td>\n",
       "    </tr>\n",
       "    <tr>\n",
       "      <th>fConc1</th>\n",
       "      <td>0.541920</td>\n",
       "      <td>0.100591</td>\n",
       "      <td>5.387356</td>\n",
       "      <td>7.150171e-08</td>\n",
       "      <td>0.344765</td>\n",
       "      <td>0.739075</td>\n",
       "    </tr>\n",
       "    <tr>\n",
       "      <th>fAsym</th>\n",
       "      <td>0.013965</td>\n",
       "      <td>0.030731</td>\n",
       "      <td>0.454411</td>\n",
       "      <td>6.495331e-01</td>\n",
       "      <td>-0.046268</td>\n",
       "      <td>0.074197</td>\n",
       "    </tr>\n",
       "    <tr>\n",
       "      <th>fM3Long</th>\n",
       "      <td>-0.410185</td>\n",
       "      <td>0.032682</td>\n",
       "      <td>-12.550801</td>\n",
       "      <td>3.935100e-36</td>\n",
       "      <td>-0.474240</td>\n",
       "      <td>-0.346129</td>\n",
       "    </tr>\n",
       "    <tr>\n",
       "      <th>fM3Trans</th>\n",
       "      <td>-0.024535</td>\n",
       "      <td>0.028617</td>\n",
       "      <td>-0.857353</td>\n",
       "      <td>3.912500e-01</td>\n",
       "      <td>-0.080624</td>\n",
       "      <td>0.031554</td>\n",
       "    </tr>\n",
       "    <tr>\n",
       "      <th>fAlpha</th>\n",
       "      <td>1.182847</td>\n",
       "      <td>0.026536</td>\n",
       "      <td>44.575669</td>\n",
       "      <td>0.000000e+00</td>\n",
       "      <td>1.130838</td>\n",
       "      <td>1.234856</td>\n",
       "    </tr>\n",
       "    <tr>\n",
       "      <th>fDist</th>\n",
       "      <td>0.042570</td>\n",
       "      <td>0.026980</td>\n",
       "      <td>1.577856</td>\n",
       "      <td>1.145987e-01</td>\n",
       "      <td>-0.010309</td>\n",
       "      <td>0.095450</td>\n",
       "    </tr>\n",
       "  </tbody>\n",
       "</table>\n",
       "</div>"
      ],
      "text/plain": [
       "              Coef.  Std.Err.          z          P>|z|    [0.025    0.975]\n",
       "Intercept -0.649728  0.023792 -27.308994  3.316874e-164 -0.696359 -0.603097\n",
       "fLength    1.271291  0.053680  23.682739  5.431284e-124  1.166080  1.376503\n",
       "fWidth     0.078551  0.054410   1.443686   1.488273e-01 -0.028091  0.185194\n",
       "fSize      0.332451  0.054717   6.075867   1.233195e-09  0.225209  0.439694\n",
       "fConc      0.069910  0.114463   0.610767   5.413537e-01 -0.154433  0.294254\n",
       "fConc1     0.541920  0.100591   5.387356   7.150171e-08  0.344765  0.739075\n",
       "fAsym      0.013965  0.030731   0.454411   6.495331e-01 -0.046268  0.074197\n",
       "fM3Long   -0.410185  0.032682 -12.550801   3.935100e-36 -0.474240 -0.346129\n",
       "fM3Trans  -0.024535  0.028617  -0.857353   3.912500e-01 -0.080624  0.031554\n",
       "fAlpha     1.182847  0.026536  44.575669   0.000000e+00  1.130838  1.234856\n",
       "fDist      0.042570  0.026980   1.577856   1.145987e-01 -0.010309  0.095450"
      ]
     },
     "execution_count": 17,
     "metadata": {},
     "output_type": "execute_result"
    }
   ],
   "source": [
    "#Logistic Regression using statsmodels.api\n",
    "logit_train_fit = smf.logit(formula=\"classy~fLength + fWidth+ fSize + fConc + fConc1 + fAsym + fM3Long + fM3Trans + fAlpha + fDist\",data=MagicTrainScaled).fit()\n",
    "logit_train_fit.summary2().tables[1]"
   ]
  },
  {
   "cell_type": "markdown",
   "id": "34d9722b-9d23-457a-a2e0-d40e0e63b4d1",
   "metadata": {},
   "source": [
    "Most meaningful predictors are fLength, fSize, fConc and fM3Long as they all have significant pvalues. "
   ]
  },
  {
   "cell_type": "code",
   "execution_count": null,
   "id": "99628bb9-2d07-46d0-83b5-3890b028fe67",
   "metadata": {},
   "outputs": [],
   "source": []
  },
  {
   "cell_type": "code",
   "execution_count": 18,
   "id": "208e91e7-a9b4-49a1-a9fb-2356b1150ceb",
   "metadata": {},
   "outputs": [
    {
     "name": "stdout",
     "output_type": "stream",
     "text": [
      "coefficients:  [[ 1.26746343  0.08015244  0.33187937  0.07337242  0.53744787  0.01332782\n",
      "  -0.4091114  -0.02452906  1.18169872  0.04290269]]\n"
     ]
    }
   ],
   "source": [
    "#Logistic Regression using sklearn LogisticRegression\n",
    "logit_tr=skl.LogisticRegression(solver='newton-cg')\n",
    "x=MagicTrainScaled[MagicTrainScaled.columns[:10]]\n",
    "y=MagicTrainScaled[\"classy\"]\n",
    "logit_tr.fit(x,y)\n",
    "print('coefficients: ',logit_tr.coef_)\n",
    "#coefficients close to the regression shown above"
   ]
  },
  {
   "cell_type": "code",
   "execution_count": null,
   "id": "1efb74f6-d686-4b12-8697-d53457d56ca0",
   "metadata": {},
   "outputs": [],
   "source": []
  },
  {
   "cell_type": "code",
   "execution_count": 19,
   "id": "257ec6c2-ea75-4554-988f-deec5970ba71",
   "metadata": {},
   "outputs": [],
   "source": [
    "#Predicting with testing data \n",
    "pred=logit_tr.predict(MagicTestScaled[MagicTestScaled.columns[:10]])"
   ]
  },
  {
   "cell_type": "code",
   "execution_count": null,
   "id": "8c574fa5-ebb6-4f5a-885f-ec491784e90b",
   "metadata": {},
   "outputs": [],
   "source": []
  },
  {
   "cell_type": "code",
   "execution_count": 20,
   "id": "8dbd90c5-f005-4ced-a13d-e89cf8fa36fc",
   "metadata": {},
   "outputs": [
    {
     "data": {
      "text/plain": [
       "array([[3302,  384],\n",
       "       [ 845, 1175]])"
      ]
     },
     "execution_count": 20,
     "metadata": {},
     "output_type": "execute_result"
    }
   ],
   "source": [
    "#Confusion matrix \n",
    "skm.confusion_matrix(MagicTestScaled[\"classy\"],pred)"
   ]
  },
  {
   "cell_type": "code",
   "execution_count": null,
   "id": "aa23521a-7e7c-486c-9a7c-b9d468bbb95a",
   "metadata": {},
   "outputs": [],
   "source": []
  },
  {
   "cell_type": "code",
   "execution_count": 21,
   "id": "a1270db6-6f4e-4d13-8117-219b88915282",
   "metadata": {},
   "outputs": [
    {
     "name": "stdout",
     "output_type": "stream",
     "text": [
      "              precision    recall  f1-score   support\n",
      "\n",
      "           0       0.80      0.90      0.84      3686\n",
      "           1       0.75      0.58      0.66      2020\n",
      "\n",
      "    accuracy                           0.78      5706\n",
      "   macro avg       0.77      0.74      0.75      5706\n",
      "weighted avg       0.78      0.78      0.78      5706\n",
      "\n"
     ]
    }
   ],
   "source": [
    "#Accuracy of 78%\n",
    "print(skm.classification_report(MagicTestScaled[\"classy\"],pred))"
   ]
  },
  {
   "cell_type": "markdown",
   "id": "b1a3667c-b8ce-4fb6-87cf-098ad99710ed",
   "metadata": {},
   "source": [
    "Accuracy of logistic model shown around 78% "
   ]
  },
  {
   "cell_type": "code",
   "execution_count": null,
   "id": "18415a43-f3f2-4f35-80ed-5099152f012e",
   "metadata": {},
   "outputs": [],
   "source": []
  },
  {
   "cell_type": "code",
   "execution_count": 22,
   "id": "02df7ccf-66d8-467b-b29c-0a6ef62566bd",
   "metadata": {},
   "outputs": [],
   "source": [
    "def ROC_Crv(pred):\n",
    "    fpr, tpr, thresholds = skm.roc_curve(MagicTestScaled[\"classy\"],pred)\n",
    "    auc = skm.roc_auc_score(MagicTestScaled[\"classy\"],pred)\n",
    "    plt.plot(fpr,tpr,label=\"AUC=\"+str(round(auc,4)))\n",
    "    plt.plot([0, 1], [0, 1], color=\"orange\", lw=2, linestyle=\"--\")\n",
    "    plt.ylabel(\"True Positive Rate\")\n",
    "    plt.xlabel(\"False Positive Rate\")\n",
    "    plt.legend(loc=5)\n",
    "    plt.show()"
   ]
  },
  {
   "cell_type": "code",
   "execution_count": 23,
   "id": "7c006685-27a6-4a5c-9282-def259a042b0",
   "metadata": {},
   "outputs": [
    {
     "data": {
      "image/png": "[encoded data removed]",
      "text/plain": [
       "<Figure size 640x480 with 1 Axes>"
      ]
     },
     "metadata": {},
     "output_type": "display_data"
    }
   ],
   "source": [
    "ROC_Crv(pred)"
   ]
  },
  {
   "cell_type": "markdown",
   "id": "5bb9ed49-d54f-4863-8473-fe0ca9481475",
   "metadata": {},
   "source": [
    "The AUC for this model is .739."
   ]
  },
  {
   "cell_type": "code",
   "execution_count": null,
   "id": "11cdbfbc-d856-4097-925d-eed405ba15d3",
   "metadata": {},
   "outputs": [],
   "source": []
  },
  {
   "cell_type": "markdown",
   "id": "007333b8-aee9-43d3-b5e0-4a8f98dbb366",
   "metadata": {},
   "source": [
    "**Linear Discriminant Analysis**"
   ]
  },
  {
   "cell_type": "code",
   "execution_count": 24,
   "id": "704c2d5e-4666-48ca-9f55-32413036e8b3",
   "metadata": {},
   "outputs": [],
   "source": [
    "lda=LinearDiscriminantAnalysis()\n",
    "lda_fit=lda.fit(x,y)"
   ]
  },
  {
   "cell_type": "code",
   "execution_count": 25,
   "id": "cf8c0b9b-ebc4-4988-b890-87ee754f7099",
   "metadata": {},
   "outputs": [],
   "source": [
    "#Predicting with testing data \n",
    "pred_lda=lda_fit.predict(MagicTestScaled[MagicTestScaled.columns[:10]])"
   ]
  },
  {
   "cell_type": "code",
   "execution_count": 26,
   "id": "fa41d2a5-5854-4af1-a1ed-1ab958d24fd4",
   "metadata": {},
   "outputs": [
    {
     "data": {
      "text/plain": [
       "array([[3329,  357],\n",
       "       [ 903, 1117]])"
      ]
     },
     "execution_count": 26,
     "metadata": {},
     "output_type": "execute_result"
    }
   ],
   "source": [
    "#Confusion matrix \n",
    "skm.confusion_matrix(MagicTestScaled[\"classy\"],pred_lda)"
   ]
  },
  {
   "cell_type": "code",
   "execution_count": 27,
   "id": "632868a9-395c-404b-9277-2705a9a2af79",
   "metadata": {},
   "outputs": [
    {
     "name": "stdout",
     "output_type": "stream",
     "text": [
      "              precision    recall  f1-score   support\n",
      "\n",
      "           0       0.79      0.90      0.84      3686\n",
      "           1       0.76      0.55      0.64      2020\n",
      "\n",
      "    accuracy                           0.78      5706\n",
      "   macro avg       0.77      0.73      0.74      5706\n",
      "weighted avg       0.78      0.78      0.77      5706\n",
      "\n"
     ]
    }
   ],
   "source": [
    "#Classification Report \n",
    "print(skm.classification_report(MagicTestScaled[\"classy\"],pred_lda))"
   ]
  },
  {
   "cell_type": "markdown",
   "id": "c74d2335-0d0f-484a-878e-e0f275cdc81c",
   "metadata": {},
   "source": [
    "Accuracy for the Lda model is 0.78. "
   ]
  },
  {
   "cell_type": "code",
   "execution_count": 28,
   "id": "827b45be-0526-4326-ab73-bb785d482df5",
   "metadata": {},
   "outputs": [
    {
     "data": {
      "image/png": "[encoded data removed]",
      "text/plain": [
       "<Figure size 640x480 with 1 Axes>"
      ]
     },
     "metadata": {},
     "output_type": "display_data"
    }
   ],
   "source": [
    "ROC_Crv(pred_lda)"
   ]
  },
  {
   "cell_type": "markdown",
   "id": "ed9caab8-8eec-4ce9-8a0d-ae3d5e638437",
   "metadata": {},
   "source": [
    "The area under the curve is 0.73 for the lda model. "
   ]
  },
  {
   "cell_type": "code",
   "execution_count": null,
   "id": "066a6aae-fbe3-4324-96b5-4d17da1e7334",
   "metadata": {},
   "outputs": [],
   "source": []
  },
  {
   "cell_type": "markdown",
   "id": "e7f26407-cf82-4b44-91df-120462b7d700",
   "metadata": {},
   "source": [
    "**KNN Classifier**"
   ]
  },
  {
   "cell_type": "code",
   "execution_count": 29,
   "id": "5f6261a9-31fb-4c26-94c5-bc261feb8ca4",
   "metadata": {},
   "outputs": [],
   "source": [
    "def KnnFunc(num):\n",
    "    knn=neighbors.KNeighborsClassifier(n_neighbors=num)\n",
    "    knn_fit=knn.fit(x,y)\n",
    "    pred_knn=knn_fit.predict(MagicTestScaled[MagicTestScaled.columns[:10]])\n",
    "    accuracy=skm.accuracy_score(MagicTestScaled[\"classy\"], pred_knn)\n",
    "    ROC_Crv(pred_knn)\n",
    "    print(\"The accuracy of the model is:\", round(accuracy,4))"
   ]
  },
  {
   "cell_type": "code",
   "execution_count": 30,
   "id": "900cfbe9-f835-407d-ae3e-3f79ca1008d2",
   "metadata": {},
   "outputs": [
    {
     "data": {
      "image/png": "[encoded data removed]",
      "text/plain": [
       "<Figure size 640x480 with 1 Axes>"
      ]
     },
     "metadata": {},
     "output_type": "display_data"
    },
    {
     "name": "stdout",
     "output_type": "stream",
     "text": [
      "The accuracy of the model is: 0.8186\n",
      "For K is 1\n"
     ]
    },
    {
     "data": {
      "image/png": "[encoded data removed]",
      "text/plain": [
       "<Figure size 640x480 with 1 Axes>"
      ]
     },
     "metadata": {},
     "output_type": "display_data"
    },
    {
     "name": "stdout",
     "output_type": "stream",
     "text": [
      "The accuracy of the model is: 0.8374\n",
      "For K is 5\n"
     ]
    },
    {
     "data": {
      "image/png": "[encoded data removed]",
      "text/plain": [
       "<Figure size 640x480 with 1 Axes>"
      ]
     },
     "metadata": {},
     "output_type": "display_data"
    },
    {
     "name": "stdout",
     "output_type": "stream",
     "text": [
      "The accuracy of the model is: 0.8305\n",
      "For K is 10\n"
     ]
    },
    {
     "data": {
      "image/png": "[encoded data removed]",
      "text/plain": [
       "<Figure size 640x480 with 1 Axes>"
      ]
     },
     "metadata": {},
     "output_type": "display_data"
    },
    {
     "name": "stdout",
     "output_type": "stream",
     "text": [
      "The accuracy of the model is: 0.8225\n",
      "For K is 50\n"
     ]
    },
    {
     "data": {
      "image/png": "[encoded data removed]",
      "text/plain": [
       "<Figure size 640x480 with 1 Axes>"
      ]
     },
     "metadata": {},
     "output_type": "display_data"
    },
    {
     "name": "stdout",
     "output_type": "stream",
     "text": [
      "The accuracy of the model is: 0.8151\n",
      "For K is 100\n"
     ]
    }
   ],
   "source": [
    "for i in [1,5,10,50,100]:\n",
    "    KnnFunc(i)\n",
    "    print(\"For K is\",i)"
   ]
  },
  {
   "cell_type": "markdown",
   "id": "afb24a09-4090-4234-aaae-0592a976baca",
   "metadata": {},
   "source": [
    "Best value of k would be k=5 with an accuracy of 0.84 and an AUC of 0.7956"
   ]
  },
  {
   "cell_type": "code",
   "execution_count": null,
   "id": "75b67a82-7b39-4f5a-a928-09c6b483f114",
   "metadata": {},
   "outputs": [],
   "source": []
  },
  {
   "cell_type": "markdown",
   "id": "de343fd8-2780-4099-96a6-7784454aea0a",
   "metadata": {},
   "source": [
    "**Linear SVM**"
   ]
  },
  {
   "cell_type": "code",
   "execution_count": 31,
   "id": "12001723-2056-4688-b610-826e267a2b6b",
   "metadata": {},
   "outputs": [
    {
     "data": {
      "text/plain": [
       "{'C': 5}"
      ]
     },
     "execution_count": 31,
     "metadata": {},
     "output_type": "execute_result"
    }
   ],
   "source": [
    "params=[{'C': [0.001, 0.01, 0.1, 1, 5, 10, 100]}]\n",
    "cSearch=GridSearchCV(SVC(kernel='linear'),params,cv=5,scoring='accuracy', return_train_score=True)\n",
    "cSearch.fit(x,y)\n",
    "cSearch.best_params_"
   ]
  },
  {
   "cell_type": "code",
   "execution_count": 39,
   "id": "8d1f06ca-22b9-4046-b0a4-d4a42c502653",
   "metadata": {},
   "outputs": [],
   "source": [
    "svm=SVC(C= 5.0, kernel='linear')\n",
    "svm_fit=svm.fit(x,y)"
   ]
  },
  {
   "cell_type": "code",
   "execution_count": 40,
   "id": "5c91e6f4-e71c-4b7b-9933-908713e410c7",
   "metadata": {},
   "outputs": [
    {
     "data": {
      "text/plain": [
       "0.7874167542937259"
      ]
     },
     "execution_count": 40,
     "metadata": {},
     "output_type": "execute_result"
    }
   ],
   "source": [
    "pred_svm=svm_fit.predict(MagicTestScaled[MagicTestScaled.columns[:10]])\n",
    "skm.accuracy_score(MagicTestScaled[\"classy\"], pred_svm)"
   ]
  },
  {
   "cell_type": "code",
   "execution_count": 41,
   "id": "c6c310c8-6eaf-4b24-8237-71a1aaa39b24",
   "metadata": {},
   "outputs": [
    {
     "data": {
      "image/png": "[encoded data removed]",
      "text/plain": [
       "<Figure size 640x480 with 1 Axes>"
      ]
     },
     "metadata": {},
     "output_type": "display_data"
    }
   ],
   "source": [
    "ROC_Crv(pred_svm)"
   ]
  },
  {
   "cell_type": "markdown",
   "id": "c2dff7f0-c6e6-49bc-b638-2638c962f570",
   "metadata": {},
   "source": [
    "The accuracy for this model is 0.787 with a C of 5 and an auc of 0.74. "
   ]
  },
  {
   "cell_type": "markdown",
   "id": "b4e01c86-6af9-4330-ac89-a794393b8a70",
   "metadata": {},
   "source": [
    "**Gaussian (Radial) SVM**"
   ]
  },
  {
   "cell_type": "code",
   "execution_count": 46,
   "id": "1a841447-182c-4aa2-ad33-17126f0b8fde",
   "metadata": {},
   "outputs": [
    {
     "data": {
      "text/plain": [
       "{'C': 1, 'gamma': 0.5}"
      ]
     },
     "execution_count": 46,
     "metadata": {},
     "output_type": "execute_result"
    }
   ],
   "source": [
    "params2=[{'C': [0.01, 1, 10, 100],'gamma': [0.5, 1,2,3]}]\n",
    "cSearch2=GridSearchCV(SVC(kernel='rbf'),params2,cv=5,scoring='accuracy', return_train_score=True)\n",
    "cSearch2.fit(x,y)\n",
    "cSearch2.best_params_"
   ]
  },
  {
   "cell_type": "code",
   "execution_count": null,
   "id": "75d43758-163e-41d0-9cd2-a3c4310315f3",
   "metadata": {},
   "outputs": [],
   "source": []
  },
  {
   "cell_type": "code",
   "execution_count": 47,
   "id": "3176b641-2665-4c47-b560-6ae025adaa06",
   "metadata": {},
   "outputs": [],
   "source": [
    "svmR=SVC(C= 1, kernel='rbf', gamma=0.5)\n",
    "svmR_fit=svmR.fit(x,y)"
   ]
  },
  {
   "cell_type": "code",
   "execution_count": 48,
   "id": "8b2e8419-72e2-4de7-abbf-a1afd596e2c8",
   "metadata": {},
   "outputs": [
    {
     "data": {
      "text/plain": [
       "0.8666316158429723"
      ]
     },
     "execution_count": 48,
     "metadata": {},
     "output_type": "execute_result"
    }
   ],
   "source": [
    "pred_svmR=svmR_fit.predict(MagicTestScaled[MagicTestScaled.columns[:10]])\n",
    "skm.accuracy_score(MagicTestScaled[\"classy\"], pred_svmR)"
   ]
  },
  {
   "cell_type": "code",
   "execution_count": 49,
   "id": "1843fbbc-4697-499c-aef8-76aba229017d",
   "metadata": {},
   "outputs": [
    {
     "data": {
      "image/png": "[encoded data removed]",
      "text/plain": [
       "<Figure size 640x480 with 1 Axes>"
      ]
     },
     "metadata": {},
     "output_type": "display_data"
    }
   ],
   "source": [
    "ROC_Crv(pred_svmR)"
   ]
  },
  {
   "cell_type": "markdown",
   "id": "5f61ee0a-4997-4fd8-928a-d604768eeff8",
   "metadata": {},
   "source": [
    "The accuracy for this model is 0.787 with a C of 1 and an gamma value of 0.5. With an accuracy of 0.867 and an auc of 0.835.  "
   ]
  },
  {
   "cell_type": "code",
   "execution_count": null,
   "id": "4c5b4936-3ade-4202-9de0-3b35bfc71358",
   "metadata": {},
   "outputs": [],
   "source": []
  }
 ],
 "metadata": {
  "kernelspec": {
   "display_name": "Python 3 (ipykernel)",
   "language": "python",
   "name": "python3"
  },
  "language_info": {
   "codemirror_mode": {
    "name": "ipython",
    "version": 3
   },
   "file_extension": ".py",
   "mimetype": "text/x-python",
   "name": "python",
   "nbconvert_exporter": "python",
   "pygments_lexer": "ipython3",
   "version": "3.9.13"
  }
 },
 "nbformat": 4,
 "nbformat_minor": 5
}
